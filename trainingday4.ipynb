{
 "cells": [
  {
   "cell_type": "code",
   "execution_count": 1,
   "id": "7edc05d1-c492-4103-8500-1ca36f5d0d3a",
   "metadata": {},
   "outputs": [
    {
     "name": "stdout",
     "output_type": "stream",
     "text": [
      "Requirement already satisfied: numpy in c:\\users\\singh\\appdata\\local\\programs\\python\\python312\\lib\\site-packages (2.0.1)\n"
     ]
    },
    {
     "name": "stderr",
     "output_type": "stream",
     "text": [
      "\n",
      "[notice] A new release of pip is available: 24.0 -> 24.2\n",
      "[notice] To update, run: python.exe -m pip install --upgrade pip\n"
     ]
    }
   ],
   "source": [
    "! pip install numpy\n"
   ]
  },
  {
   "cell_type": "code",
   "execution_count": 2,
   "id": "7f88ff23-da85-407b-85aa-804948b828b3",
   "metadata": {},
   "outputs": [
    {
     "data": {
      "text/plain": [
       "array([[85, 90, 78],\n",
       "       [92, 98, 95],\n",
       "       [76, 95, 85],\n",
       "       [90, 85, 92],\n",
       "       [88, 76, 89]])"
      ]
     },
     "execution_count": 2,
     "metadata": {},
     "output_type": "execute_result"
    }
   ],
   "source": [
    "import numpy as np\n",
    "scores = np.array([[85,90,78],[92,98,95],[76,95,85],[90,85,92],[88,76,89]])\n",
    "scores"
   ]
  },
  {
   "cell_type": "code",
   "execution_count": 5,
   "id": "0587a9ee-5cce-42c0-953d-fb1acfd374cc",
   "metadata": {},
   "outputs": [
    {
     "data": {
      "text/plain": [
       "array([86.2, 88.8, 87.8])"
      ]
     },
     "execution_count": 5,
     "metadata": {},
     "output_type": "execute_result"
    }
   ],
   "source": [
    "mean_score=np.mean(scores , axis=0)\n",
    "mean_score"
   ]
  },
  {
   "cell_type": "code",
   "execution_count": 6,
   "id": "17dc0a30-88bb-4c69-b71a-998cbf68bd18",
   "metadata": {},
   "outputs": [
    {
     "data": {
      "text/plain": [
       "array([86.2, 88.8, 87.8])"
      ]
     },
     "execution_count": 6,
     "metadata": {},
     "output_type": "execute_result"
    }
   ],
   "source": [
    "median_score=np.mean(scores , axis =0)\n",
    "median_score"
   ]
  },
  {
   "cell_type": "code",
   "execution_count": 25,
   "id": "a7ab29af-9c45-41b7-96b1-7aa63bbe30c1",
   "metadata": {},
   "outputs": [
    {
     "name": "stdout",
     "output_type": "stream",
     "text": [
      "[92 98 95]\n"
     ]
    }
   ],
   "source": [
    "sum_students=np.sum(scores,axis=1)\n",
    "sum_students\n",
    "max_no=np.max(sum_students)\n",
    "max_no\n",
    "index=np.argmax(sum_students) #for finding index of the sum of highest elements\n",
    "index\n",
    "print(scores[index])"
   ]
  },
  {
   "cell_type": "code",
   "execution_count": 9,
   "id": "aa3585dd-847a-474f-a705-c46765f668d8",
   "metadata": {},
   "outputs": [
    {
     "data": {
      "text/plain": [
       "array([76, 76, 78])"
      ]
     },
     "execution_count": 9,
     "metadata": {},
     "output_type": "execute_result"
    }
   ],
   "source": [
    "min_marks=np.min(scores , axis =0)\n",
    "min_marks"
   ]
  },
  {
   "cell_type": "code",
   "execution_count": 10,
   "id": "3b1e414f-9f18-4ea0-9044-2121610ac822",
   "metadata": {},
   "outputs": [
    {
     "data": {
      "text/plain": [
       "array([92, 98, 95])"
      ]
     },
     "execution_count": 10,
     "metadata": {},
     "output_type": "execute_result"
    }
   ],
   "source": [
    "max_marks=np.max(scores , axis =0)\n",
    "max_marks"
   ]
  },
  {
   "cell_type": "code",
   "execution_count": 12,
   "id": "40c283c1-102d-4ac6-94c8-33aba208a3ae",
   "metadata": {},
   "outputs": [
    {
     "data": {
      "text/plain": [
       "array([[85, 90, 78, 92, 98],\n",
       "       [95, 76, 95, 85, 90],\n",
       "       [85, 92, 88, 76, 89]])"
      ]
     },
     "execution_count": 12,
     "metadata": {},
     "output_type": "execute_result"
    }
   ],
   "source": [
    "newarr=scores.reshape(3,5)\n",
    "newarr"
   ]
  },
  {
   "cell_type": "code",
   "execution_count": 13,
   "id": "6034540a-ba29-47f7-ac50-a4b6fa04351c",
   "metadata": {},
   "outputs": [
    {
     "data": {
      "text/plain": [
       "array([[76, 76, 78],\n",
       "       [85, 85, 85],\n",
       "       [88, 90, 89],\n",
       "       [90, 95, 92],\n",
       "       [92, 98, 95]])"
      ]
     },
     "execution_count": 13,
     "metadata": {},
     "output_type": "execute_result"
    }
   ],
   "source": [
    "ascending_order=np.sort(scores , axis = 0)\n",
    "ascending_order"
   ]
  },
  {
   "cell_type": "code",
   "execution_count": 15,
   "id": "765e7f35-a4ba-409d-aebc-889851c2563b",
   "metadata": {},
   "outputs": [
    {
     "data": {
      "text/plain": [
       "array([[92, 98, 95],\n",
       "       [90, 95, 92],\n",
       "       [88, 90, 89],\n",
       "       [85, 85, 85],\n",
       "       [76, 76, 78]])"
      ]
     },
     "execution_count": 15,
     "metadata": {},
     "output_type": "execute_result"
    }
   ],
   "source": [
    "descending_order=np.sort(scores , axis = 0 )[::-1]\n",
    "descending_order"
   ]
  },
  {
   "cell_type": "markdown",
   "id": "54ea04c2-948a-4e59-bd91-73029af0a26e",
   "metadata": {},
   "source": [
    "# EXCEPTION HANDLING"
   ]
  },
  {
   "cell_type": "markdown",
   "id": "53c7f6af-11ed-4ab1-8bc3-a26b42ef21c6",
   "metadata": {},
   "source": [
    "**compile time**\n",
    "**run time**"
   ]
  },
  {
   "cell_type": "code",
   "execution_count": 26,
   "id": "c5e57158-2174-44ae-afca-41d4dc3c6e16",
   "metadata": {},
   "outputs": [
    {
     "data": {
      "text/plain": [
       "4"
      ]
     },
     "execution_count": 26,
     "metadata": {},
     "output_type": "execute_result"
    }
   ],
   "source": [
    "L=[1,2,3,4]\n",
    "L[3]"
   ]
  },
  {
   "cell_type": "code",
   "execution_count": 30,
   "id": "11cc756f-da5c-4759-866a-fb760d8f6d4a",
   "metadata": {},
   "outputs": [
    {
     "name": "stdout",
     "output_type": "stream",
     "text": [
      "Hello World\n",
      "4\n",
      "3\n",
      "End of Code\n"
     ]
    }
   ],
   "source": [
    "print(\"Hello World\")\n",
    "L\n",
    "print(L[3])\n",
    "try:\n",
    "    print(L[2])\n",
    "except:\n",
    "    print(\"invalid code\")\n",
    "finally:\n",
    "    \n",
    "print(\"End of Code\")"
   ]
  },
  {
   "cell_type": "code",
   "execution_count": 32,
   "id": "b4cf1e3b-73b2-477c-ba3e-f74f0f82d522",
   "metadata": {},
   "outputs": [
    {
     "name": "stdout",
     "output_type": "stream",
     "text": [
      "B can't be zero\n",
      "Yesssss!!!\n"
     ]
    }
   ],
   "source": [
    "a=10\n",
    "b=0\n",
    "try:\n",
    "    print(a/b)\n",
    "except:\n",
    "    print(\"B can't be zero\")\n",
    "finally:  #finally work all conditions whether we are giving error or not in try and except block\n",
    "    print(\"Yesssss!!!\")"
   ]
  },
  {
   "cell_type": "code",
   "execution_count": null,
   "id": "2572559e-a368-494c-b23e-01be763a0512",
   "metadata": {},
   "outputs": [],
   "source": []
  }
 ],
 "metadata": {
  "kernelspec": {
   "display_name": "Python 3 (ipykernel)",
   "language": "python",
   "name": "python3"
  },
  "language_info": {
   "codemirror_mode": {
    "name": "ipython",
    "version": 3
   },
   "file_extension": ".py",
   "mimetype": "text/x-python",
   "name": "python",
   "nbconvert_exporter": "python",
   "pygments_lexer": "ipython3",
   "version": "3.12.4"
  }
 },
 "nbformat": 4,
 "nbformat_minor": 5
}
